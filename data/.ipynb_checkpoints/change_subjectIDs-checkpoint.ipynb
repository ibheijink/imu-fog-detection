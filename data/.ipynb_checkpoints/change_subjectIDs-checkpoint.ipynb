{
 "cells": [
  {
   "cell_type": "code",
   "execution_count": null,
   "id": "detected-rescue",
   "metadata": {},
   "outputs": [],
   "source": [
    "# editing the xlsx to rename old subject names \n",
    "\n",
    "# change:\n",
    "# new - old subject \n",
    "# 1   - 5\n",
    "# 2   - 8\n",
    "# 3   - 11 \n",
    "# 4   - 16\n",
    "# 5   - 19\n",
    "# 6   - 20\n",
    "# 7   - 22"
   ]
  },
  {
   "cell_type": "code",
   "execution_count": 4,
   "id": "referenced-plain",
   "metadata": {},
   "outputs": [],
   "source": [
    "import os \n",
    "import pandas as pd\n",
    "\n",
    "filelist = []\n",
    "\n",
    "cd_dir = \"raw\\imus11_subjects4\\\\\"\n",
    "# cd_dir = \"raw\\imus6_subjects7\\\\\"\n",
    "save_dir = cd_dir + \"new_filenames\\\\\"\n",
    "\n",
    "for filename in os.listdir(cd_dir):\n",
    "    if filename.endswith(\".xlsx\"): \n",
    "        curr_filename = os.path.join(filename)\n",
    "        filelist.append(filename)\n",
    "        \n",
    "        full_filename = cd_dir + curr_filename\n",
    "        df = pd.read_excel(full_filename)\n",
    "        \n",
    "        spltfilename = filename.split('_visit')\n",
    "        if 'pt5' in spltfilename[0]:\n",
    "            newID = 1\n",
    "        elif 'pt8' in spltfilename[0]:\n",
    "            newID = 2\n",
    "        elif 'pt11' in spltfilename[0]:\n",
    "            newID = 3\n",
    "        elif 'pt16' in spltfilename[0]:\n",
    "            newID = 4 \n",
    "        elif 'pt19' in spltfilename[0]:\n",
    "            newID = 5\n",
    "        elif 'pt20' in spltfilename[0]:\n",
    "            newID = 6\n",
    "        elif 'pt22' in spltfilename[0]:\n",
    "            newID = 7\n",
    "        \n",
    "        df.subject_ID = newID\n",
    "        \n",
    "        new_filename = 'pt' + str(newID) + '_visit' + spltfilename[1]\n",
    "        df.to_excel(save_dir + new_filename, index = False)\n",
    "        \n",
    "# print(filelist)\n"
   ]
  },
  {
   "cell_type": "code",
   "execution_count": null,
   "id": "polyphonic-tokyo",
   "metadata": {},
   "outputs": [],
   "source": []
  },
  {
   "cell_type": "code",
   "execution_count": null,
   "id": "reverse-seafood",
   "metadata": {},
   "outputs": [],
   "source": []
  },
  {
   "cell_type": "code",
   "execution_count": null,
   "id": "elect-north",
   "metadata": {},
   "outputs": [],
   "source": []
  }
 ],
 "metadata": {
  "kernelspec": {
   "display_name": "Python 3",
   "language": "python",
   "name": "python3"
  },
  "language_info": {
   "codemirror_mode": {
    "name": "ipython",
    "version": 3
   },
   "file_extension": ".py",
   "mimetype": "text/x-python",
   "name": "python",
   "nbconvert_exporter": "python",
   "pygments_lexer": "ipython3",
   "version": "3.8.8"
  }
 },
 "nbformat": 4,
 "nbformat_minor": 5
}
